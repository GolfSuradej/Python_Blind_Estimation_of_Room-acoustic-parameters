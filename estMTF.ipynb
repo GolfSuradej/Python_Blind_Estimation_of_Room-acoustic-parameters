{
 "cells": [
  {
   "cell_type": "code",
   "execution_count": 1,
   "metadata": {},
   "outputs": [],
   "source": [
    "#Import Libaries\n",
    "import os\n",
    "import numpy as np \n",
    "#from random import shuffle\n",
    "from sklearn.utils import shuffle\n",
    "import matplotlib\n",
    "import matplotlib.pyplot as plt \n",
    "\n",
    "import h5py\n",
    "%matplotlib inline\n",
    "import matplotlib.pyplot as plt\n",
    "# --- Signal Processing Libary\n",
    "from scipy.fftpack import fft\n",
    "from scipy.io import wavfile\n",
    "from scipy.signal import butter, lfilter, freqz, hilbert, filtfilt, convolve \n",
    "import scipy \n",
    "import IPython.display as ipd\n",
    "# --- Machine Learining\n",
    "import keras\n",
    "from keras.models import Model\n",
    "from sklearn.model_selection import cross_val_score\n",
    "from keras.wrappers.scikit_learn import KerasRegressor\n",
    "from sklearn.model_selection import KFold\n",
    "from sklearn.preprocessing import MinMaxScaler\n",
    "from sklearn import metrics\n",
    "from keras.models import load_model\n",
    "from keras.models import model_from_json\n",
    "from sklearn.model_selection import train_test_split,cross_val_score\n",
    "\n",
    "from keras.models import Sequential\n",
    "from keras.layers import LSTM\n",
    "from keras.layers.embeddings import Embedding\n",
    "from keras.preprocessing import sequence\n",
    "\n",
    "from keras.layers import Dense, Input, Flatten, MaxPooling2D\n",
    "from keras.models import Model\n",
    "from keras.layers import Conv1D,Conv2D,Dropout,Reshape,Activation\n",
    "from keras.optimizers import SGD\n",
    "from keras.layers.normalization import BatchNormalization\n",
    "from keras.layers.convolutional import Conv1D\n",
    "from keras.layers.convolutional import MaxPooling1D\n",
    "\n",
    "from keras.models import load_model\n",
    "from sklearn.metrics import mean_squared_error"
   ]
  },
  {
   "cell_type": "markdown",
   "metadata": {},
   "source": [
    "$m(f_m) = \\displaystyle\\frac{\\displaystyle\\int_{0}^{\\infty} h^2(t)e^{-j2\\pi{f_m}t}dt}{\\displaystyle\\int_{0}^{\\infty} h^2(t)dt}$"
   ]
  },
  {
   "cell_type": "markdown",
   "metadata": {},
   "source": [
    "$\\displaystyle m(f_m)=\\frac{1}{{\\left[ 1+\\left(2\\pi f_m \\frac{T_R}{13.8}\\right)^2 \\right]}^{{\\frac{1}{2}}}},$"
   ]
  },
  {
   "cell_type": "markdown",
   "metadata": {},
   "source": [
    "$\\displaystyle \\frac{1}{m(f_m)^2}=1+\\left(2\\pi f_m \\frac{T_R}{13.8}\\right)^2$"
   ]
  },
  {
   "cell_type": "markdown",
   "metadata": {},
   "source": [
    "$\\displaystyle  \\frac{1}{m(f_m)^2}=\\left(2\\pi f_m \\frac{T_R}{13.8}\\right)^2$"
   ]
  },
  {
   "cell_type": "markdown",
   "metadata": {},
   "source": [
    "$\\displaystyle \\left( \\frac{1}{m(f_m)^2}-1 \\right)^{-\\frac{1}{2}}=\\left(2\\pi f_m \\frac{T_R}{13.8}\\right)$"
   ]
  },
  {
   "cell_type": "markdown",
   "metadata": {},
   "source": [
    "$\\displaystyle \\frac{\\left( \\frac{1}{m(f_m)^2}-1 \\right)^{-\\frac{1}{2}}}{(2\\pi f_m)} =\\frac{T_R}{13.8}$"
   ]
  },
  {
   "cell_type": "markdown",
   "metadata": {},
   "source": [
    "$\\displaystyle  T_R = \\frac{\\left( \\frac{1}{m(f_m)^2}-1 \\right)^{-\\frac{1}{2}}}{2\\pi f_m}13.8 $"
   ]
  },
  {
   "cell_type": "markdown",
   "metadata": {},
   "source": [
    "Generalized RIR model (Unoki, 2017)"
   ]
  },
  {
   "cell_type": "markdown",
   "metadata": {},
   "source": [
    "$\\displaystyle m(f_m, T_R, b,\\rm{SNR})={\\left[ 1+\\left(2\\pi f_m \\frac{T_R}{13.8}\\right)^2 \\right]}^{-{\\frac{2b-1}{2}}}\\left(\\frac{1}{1+10^{-{\\frac{\\rm{SNR}}{10}}}}\\right).$"
   ]
  },
  {
   "cell_type": "code",
   "execution_count": 2,
   "metadata": {},
   "outputs": [],
   "source": [
    "TAE = np.load('TAE.npy')\n",
    "MTF = np.load('MTF.npy')"
   ]
  },
  {
   "cell_type": "code",
   "execution_count": 5,
   "metadata": {},
   "outputs": [
    {
     "data": {
      "text/plain": [
       "(431, 14, 7)"
      ]
     },
     "execution_count": 5,
     "metadata": {},
     "output_type": "execute_result"
    }
   ],
   "source": [
    "MTF.shape"
   ]
  },
  {
   "cell_type": "code",
   "execution_count": 6,
   "metadata": {},
   "outputs": [
    {
     "data": {
      "text/plain": [
       "(431, 6000, 7)"
      ]
     },
     "execution_count": 6,
     "metadata": {},
     "output_type": "execute_result"
    }
   ],
   "source": [
    "TAE.shape"
   ]
  },
  {
   "cell_type": "code",
   "execution_count": 13,
   "metadata": {},
   "outputs": [],
   "source": [
    "seed = 8\n",
    "np.random.seed(seed)\n",
    "epochs = 200\n",
    "batch_size= 24\n",
    "\n",
    "x_train = TAE\n",
    "y_train = MTF\n",
    "\n",
    "x_train = x_train.astype('float32') # gpus only work with float32\n",
    "y_train = y_train.astype('float32')\n",
    "\n",
    "x_train = np.reshape(x_train,[len(x_train),6000*7])\n",
    "y_train = np.reshape(y_train,[len(y_train),14*7]) "
   ]
  },
  {
   "cell_type": "code",
   "execution_count": 14,
   "metadata": {},
   "outputs": [
    {
     "data": {
      "text/plain": [
       "(431, 42000)"
      ]
     },
     "execution_count": 14,
     "metadata": {},
     "output_type": "execute_result"
    }
   ],
   "source": [
    "x_train.shape"
   ]
  },
  {
   "cell_type": "markdown",
   "metadata": {},
   "source": [
    "## Feedforward Network"
   ]
  },
  {
   "cell_type": "code",
   "execution_count": 17,
   "metadata": {
    "collapsed": true
   },
   "outputs": [
    {
     "name": "stdout",
     "output_type": "stream",
     "text": [
      "Model: \"sequential_6\"\n",
      "_________________________________________________________________\n",
      "Layer (type)                 Output Shape              Param #   \n",
      "=================================================================\n",
      "dense_8 (Dense)              (None, 256)               10752256  \n",
      "_________________________________________________________________\n",
      "dense_9 (Dense)              (None, 128)               32896     \n",
      "_________________________________________________________________\n",
      "dense_10 (Dense)             (None, 98)                12642     \n",
      "=================================================================\n",
      "Total params: 10,797,794\n",
      "Trainable params: 10,797,794\n",
      "Non-trainable params: 0\n",
      "_________________________________________________________________\n",
      "Epoch 1/200\n",
      "18/18 [==============================] - 1s 76ms/step - loss: 0.0694 - mean_squared_error: 0.0694\n",
      "Epoch 2/200\n",
      "18/18 [==============================] - 1s 76ms/step - loss: 0.0354 - mean_squared_error: 0.0354\n",
      "Epoch 3/200\n",
      "18/18 [==============================] - 1s 77ms/step - loss: 0.0331 - mean_squared_error: 0.0331\n",
      "Epoch 4/200\n",
      "18/18 [==============================] - 1s 77ms/step - loss: 0.0275 - mean_squared_error: 0.0275\n",
      "Epoch 5/200\n",
      "18/18 [==============================] - 1s 77ms/step - loss: 0.0249 - mean_squared_error: 0.0249\n",
      "Epoch 6/200\n",
      "18/18 [==============================] - 1s 78ms/step - loss: 0.0231 - mean_squared_error: 0.0231\n",
      "Epoch 7/200\n",
      "18/18 [==============================] - 1s 77ms/step - loss: 0.0223 - mean_squared_error: 0.0223\n",
      "Epoch 8/200\n",
      "18/18 [==============================] - 1s 77ms/step - loss: 0.0216 - mean_squared_error: 0.0216\n",
      "Epoch 9/200\n",
      "18/18 [==============================] - 1s 77ms/step - loss: 0.0196 - mean_squared_error: 0.0196\n",
      "Epoch 10/200\n",
      "18/18 [==============================] - 1s 77ms/step - loss: 0.0189 - mean_squared_error: 0.0189\n",
      "Epoch 11/200\n",
      "18/18 [==============================] - 1s 77ms/step - loss: 0.0191 - mean_squared_error: 0.0191\n",
      "Epoch 12/200\n",
      "18/18 [==============================] - 1s 77ms/step - loss: 0.0178 - mean_squared_error: 0.0178\n",
      "Epoch 13/200\n",
      "18/18 [==============================] - 1s 78ms/step - loss: 0.0176 - mean_squared_error: 0.0176\n",
      "Epoch 14/200\n",
      "18/18 [==============================] - 1s 77ms/step - loss: 0.0178 - mean_squared_error: 0.0178\n",
      "Epoch 15/200\n",
      "18/18 [==============================] - 1s 78ms/step - loss: 0.0159 - mean_squared_error: 0.0159\n",
      "Epoch 16/200\n",
      "18/18 [==============================] - 1s 78ms/step - loss: 0.0164 - mean_squared_error: 0.0164\n",
      "Epoch 17/200\n",
      "18/18 [==============================] - 1s 78ms/step - loss: 0.0154 - mean_squared_error: 0.0154\n",
      "Epoch 18/200\n",
      "18/18 [==============================] - 1s 77ms/step - loss: 0.0167 - mean_squared_error: 0.0167\n",
      "Epoch 19/200\n",
      "18/18 [==============================] - 1s 78ms/step - loss: 0.0130 - mean_squared_error: 0.0130\n",
      "Epoch 20/200\n",
      "18/18 [==============================] - 1s 78ms/step - loss: 0.0151 - mean_squared_error: 0.0151\n",
      "Epoch 21/200\n",
      "18/18 [==============================] - 1s 77ms/step - loss: 0.0129 - mean_squared_error: 0.0129\n",
      "Epoch 22/200\n",
      "18/18 [==============================] - 1s 78ms/step - loss: 0.0129 - mean_squared_error: 0.0129\n",
      "Epoch 23/200\n",
      "18/18 [==============================] - 1s 78ms/step - loss: 0.0131 - mean_squared_error: 0.0131\n",
      "Epoch 24/200\n",
      "18/18 [==============================] - 1s 81ms/step - loss: 0.0107 - mean_squared_error: 0.0107\n",
      "Epoch 25/200\n",
      "18/18 [==============================] - 1s 77ms/step - loss: 0.0102 - mean_squared_error: 0.0102\n",
      "Epoch 26/200\n",
      "18/18 [==============================] - 1s 77ms/step - loss: 0.0097 - mean_squared_error: 0.0097\n",
      "Epoch 27/200\n",
      "18/18 [==============================] - 1s 77ms/step - loss: 0.0081 - mean_squared_error: 0.0081\n",
      "Epoch 28/200\n",
      "18/18 [==============================] - 1s 78ms/step - loss: 0.0076 - mean_squared_error: 0.0076\n",
      "Epoch 29/200\n",
      "18/18 [==============================] - 1s 77ms/step - loss: 0.0119 - mean_squared_error: 0.0119\n",
      "Epoch 30/200\n",
      "18/18 [==============================] - 1s 78ms/step - loss: 0.0068 - mean_squared_error: 0.0068\n",
      "Epoch 31/200\n",
      "18/18 [==============================] - 1s 78ms/step - loss: 0.0073 - mean_squared_error: 0.0073\n",
      "Epoch 32/200\n",
      "18/18 [==============================] - 1s 78ms/step - loss: 0.0070 - mean_squared_error: 0.0070\n",
      "Epoch 33/200\n",
      "18/18 [==============================] - 1s 77ms/step - loss: 0.0064 - mean_squared_error: 0.0064\n",
      "Epoch 34/200\n",
      "18/18 [==============================] - 1s 77ms/step - loss: 0.0074 - mean_squared_error: 0.0074\n",
      "Epoch 35/200\n",
      "18/18 [==============================] - 1s 78ms/step - loss: 0.0052 - mean_squared_error: 0.0052\n",
      "Epoch 36/200\n",
      "18/18 [==============================] - 1s 78ms/step - loss: 0.0064 - mean_squared_error: 0.0064\n",
      "Epoch 37/200\n",
      "18/18 [==============================] - 1s 77ms/step - loss: 0.0065 - mean_squared_error: 0.0065\n",
      "Epoch 38/200\n",
      "18/18 [==============================] - 1s 77ms/step - loss: 0.0053 - mean_squared_error: 0.0053\n",
      "Epoch 39/200\n",
      "18/18 [==============================] - 1s 77ms/step - loss: 0.0062 - mean_squared_error: 0.0062\n",
      "Epoch 40/200\n",
      "18/18 [==============================] - 1s 77ms/step - loss: 0.0048 - mean_squared_error: 0.0048\n",
      "Epoch 41/200\n",
      "18/18 [==============================] - 1s 78ms/step - loss: 0.0057 - mean_squared_error: 0.0057\n",
      "Epoch 42/200\n",
      "18/18 [==============================] - 1s 78ms/step - loss: 0.0050 - mean_squared_error: 0.0050\n",
      "Epoch 43/200\n",
      "18/18 [==============================] - 1s 78ms/step - loss: 0.0050 - mean_squared_error: 0.0050\n",
      "Epoch 44/200\n",
      "18/18 [==============================] - 1s 77ms/step - loss: 0.0052 - mean_squared_error: 0.0052\n",
      "Epoch 45/200\n",
      "18/18 [==============================] - 1s 77ms/step - loss: 0.0051 - mean_squared_error: 0.0051\n",
      "Epoch 46/200\n",
      "18/18 [==============================] - 1s 78ms/step - loss: 0.0104 - mean_squared_error: 0.0104\n",
      "Epoch 47/200\n",
      "18/18 [==============================] - 1s 77ms/step - loss: 0.0036 - mean_squared_error: 0.0036\n",
      "Epoch 48/200\n",
      "18/18 [==============================] - 1s 77ms/step - loss: 0.0047 - mean_squared_error: 0.0047\n",
      "Epoch 49/200\n",
      "18/18 [==============================] - 1s 77ms/step - loss: 0.0044 - mean_squared_error: 0.0044\n",
      "Epoch 50/200\n",
      "18/18 [==============================] - 1s 78ms/step - loss: 0.0085 - mean_squared_error: 0.0085\n",
      "Epoch 51/200\n",
      "18/18 [==============================] - 1s 77ms/step - loss: 0.0034 - mean_squared_error: 0.0034\n",
      "Epoch 52/200\n",
      "18/18 [==============================] - 1s 77ms/step - loss: 0.0045 - mean_squared_error: 0.0045\n",
      "Epoch 53/200\n",
      "18/18 [==============================] - 1s 77ms/step - loss: 0.0044 - mean_squared_error: 0.0044\n",
      "Epoch 54/200\n",
      "18/18 [==============================] - 1s 78ms/step - loss: 0.0044 - mean_squared_error: 0.0044\n",
      "Epoch 55/200\n",
      "18/18 [==============================] - 1s 78ms/step - loss: 0.0039 - mean_squared_error: 0.0039\n",
      "Epoch 56/200\n",
      "18/18 [==============================] - 1s 77ms/step - loss: 0.0040 - mean_squared_error: 0.0040\n",
      "Epoch 57/200\n",
      "18/18 [==============================] - 1s 77ms/step - loss: 0.0040 - mean_squared_error: 0.0040\n",
      "Epoch 58/200\n",
      "18/18 [==============================] - 1s 78ms/step - loss: 0.0040 - mean_squared_error: 0.0040\n",
      "Epoch 59/200\n",
      "18/18 [==============================] - 1s 77ms/step - loss: 0.0037 - mean_squared_error: 0.0037\n",
      "Epoch 60/200\n",
      "18/18 [==============================] - 1s 77ms/step - loss: 0.0039 - mean_squared_error: 0.0039\n",
      "Epoch 61/200\n",
      "18/18 [==============================] - 1s 77ms/step - loss: 0.0038 - mean_squared_error: 0.0038\n",
      "Epoch 62/200\n",
      "18/18 [==============================] - 1s 77ms/step - loss: 0.0034 - mean_squared_error: 0.0034\n",
      "Epoch 63/200\n",
      "18/18 [==============================] - 1s 77ms/step - loss: 0.0033 - mean_squared_error: 0.0033\n",
      "Epoch 64/200\n",
      "18/18 [==============================] - 1s 77ms/step - loss: 0.0037 - mean_squared_error: 0.0037\n",
      "Epoch 65/200\n",
      "18/18 [==============================] - 1s 77ms/step - loss: 0.0034 - mean_squared_error: 0.0034\n",
      "Epoch 66/200\n",
      "18/18 [==============================] - 1s 77ms/step - loss: 0.0036 - mean_squared_error: 0.0036\n",
      "Epoch 67/200\n",
      "18/18 [==============================] - 1s 78ms/step - loss: 0.0030 - mean_squared_error: 0.0030\n",
      "Epoch 68/200\n"
     ]
    },
    {
     "name": "stdout",
     "output_type": "stream",
     "text": [
      "18/18 [==============================] - 1s 77ms/step - loss: 0.0031 - mean_squared_error: 0.0031\n",
      "Epoch 69/200\n",
      "18/18 [==============================] - 1s 78ms/step - loss: 0.0033 - mean_squared_error: 0.0033\n",
      "Epoch 70/200\n",
      "18/18 [==============================] - 1s 77ms/step - loss: 0.0031 - mean_squared_error: 0.0031\n",
      "Epoch 71/200\n",
      "18/18 [==============================] - 1s 78ms/step - loss: 0.0028 - mean_squared_error: 0.0028\n",
      "Epoch 72/200\n",
      "18/18 [==============================] - 1s 79ms/step - loss: 0.0030 - mean_squared_error: 0.0030\n",
      "Epoch 73/200\n",
      "18/18 [==============================] - 1s 79ms/step - loss: 0.0031 - mean_squared_error: 0.0031\n",
      "Epoch 74/200\n",
      "18/18 [==============================] - 1s 77ms/step - loss: 0.0028 - mean_squared_error: 0.0028\n",
      "Epoch 75/200\n",
      "18/18 [==============================] - 1s 77ms/step - loss: 0.0029 - mean_squared_error: 0.0029\n",
      "Epoch 76/200\n",
      "18/18 [==============================] - 1s 77ms/step - loss: 0.0030 - mean_squared_error: 0.0030\n",
      "Epoch 77/200\n",
      "18/18 [==============================] - 1s 78ms/step - loss: 0.0026 - mean_squared_error: 0.0026\n",
      "Epoch 78/200\n",
      "18/18 [==============================] - 1s 78ms/step - loss: 0.0038 - mean_squared_error: 0.0038\n",
      "Epoch 79/200\n",
      "18/18 [==============================] - 1s 77ms/step - loss: 0.0022 - mean_squared_error: 0.0022\n",
      "Epoch 80/200\n",
      "18/18 [==============================] - 1s 77ms/step - loss: 0.0028 - mean_squared_error: 0.0028\n",
      "Epoch 81/200\n",
      "18/18 [==============================] - 1s 77ms/step - loss: 0.0022 - mean_squared_error: 0.0022\n",
      "Epoch 82/200\n",
      "18/18 [==============================] - 1s 77ms/step - loss: 0.0066 - mean_squared_error: 0.0066\n",
      "Epoch 83/200\n",
      "18/18 [==============================] - 1s 77ms/step - loss: 0.0040 - mean_squared_error: 0.0040\n",
      "Epoch 84/200\n",
      "18/18 [==============================] - 1s 78ms/step - loss: 0.0018 - mean_squared_error: 0.0018\n",
      "Epoch 85/200\n",
      "18/18 [==============================] - 1s 78ms/step - loss: 0.0024 - mean_squared_error: 0.0024\n",
      "Epoch 86/200\n",
      "18/18 [==============================] - 1s 77ms/step - loss: 0.0022 - mean_squared_error: 0.0022\n",
      "Epoch 87/200\n",
      "18/18 [==============================] - 1s 77ms/step - loss: 0.0026 - mean_squared_error: 0.0026\n",
      "Epoch 88/200\n",
      "18/18 [==============================] - 1s 77ms/step - loss: 0.0022 - mean_squared_error: 0.0022\n",
      "Epoch 89/200\n",
      "18/18 [==============================] - 1s 78ms/step - loss: 0.0022 - mean_squared_error: 0.0022\n",
      "Epoch 90/200\n",
      "18/18 [==============================] - 1s 77ms/step - loss: 0.0023 - mean_squared_error: 0.0023\n",
      "Epoch 91/200\n",
      "18/18 [==============================] - 1s 77ms/step - loss: 0.0023 - mean_squared_error: 0.0023\n",
      "Epoch 92/200\n",
      "18/18 [==============================] - 1s 78ms/step - loss: 0.0024 - mean_squared_error: 0.0024\n",
      "Epoch 93/200\n",
      "18/18 [==============================] - 1s 78ms/step - loss: 0.0021 - mean_squared_error: 0.0021\n",
      "Epoch 94/200\n",
      "18/18 [==============================] - 1s 78ms/step - loss: 0.0019 - mean_squared_error: 0.0019\n",
      "Epoch 95/200\n",
      "18/18 [==============================] - 1s 78ms/step - loss: 0.0022 - mean_squared_error: 0.0022\n",
      "Epoch 96/200\n",
      "18/18 [==============================] - 1s 77ms/step - loss: 0.0033 - mean_squared_error: 0.0033\n",
      "Epoch 97/200\n",
      "18/18 [==============================] - 1s 77ms/step - loss: 0.0029 - mean_squared_error: 0.0029\n",
      "Epoch 98/200\n",
      "18/18 [==============================] - 1s 77ms/step - loss: 0.0013 - mean_squared_error: 0.0013\n",
      "Epoch 99/200\n",
      "18/18 [==============================] - 1s 77ms/step - loss: 0.0019 - mean_squared_error: 0.0019\n",
      "Epoch 100/200\n",
      "18/18 [==============================] - 1s 77ms/step - loss: 0.0019 - mean_squared_error: 0.0019\n",
      "Epoch 101/200\n",
      "18/18 [==============================] - 1s 77ms/step - loss: 0.0020 - mean_squared_error: 0.0020\n",
      "Epoch 102/200\n",
      "18/18 [==============================] - 1s 78ms/step - loss: 0.0020 - mean_squared_error: 0.0020\n",
      "Epoch 103/200\n",
      "18/18 [==============================] - 1s 78ms/step - loss: 0.0018 - mean_squared_error: 0.0018\n",
      "Epoch 104/200\n",
      "18/18 [==============================] - 1s 78ms/step - loss: 0.0020 - mean_squared_error: 0.0020\n",
      "Epoch 105/200\n",
      "18/18 [==============================] - 1s 77ms/step - loss: 0.0018 - mean_squared_error: 0.0018\n",
      "Epoch 106/200\n",
      "18/18 [==============================] - 1s 77ms/step - loss: 0.0017 - mean_squared_error: 0.0017\n",
      "Epoch 107/200\n",
      "18/18 [==============================] - 1s 78ms/step - loss: 0.0054 - mean_squared_error: 0.0054\n",
      "Epoch 108/200\n",
      "18/18 [==============================] - 1s 78ms/step - loss: 0.0020 - mean_squared_error: 0.0020\n",
      "Epoch 109/200\n",
      "18/18 [==============================] - 1s 77ms/step - loss: 0.0012 - mean_squared_error: 0.0012\n",
      "Epoch 110/200\n",
      "18/18 [==============================] - 1s 78ms/step - loss: 0.0016 - mean_squared_error: 0.0016\n",
      "Epoch 111/200\n",
      "18/18 [==============================] - 1s 78ms/step - loss: 0.0023 - mean_squared_error: 0.0023\n",
      "Epoch 112/200\n",
      "18/18 [==============================] - 1s 77ms/step - loss: 0.0012 - mean_squared_error: 0.0012\n",
      "Epoch 113/200\n",
      "18/18 [==============================] - 1s 78ms/step - loss: 0.0015 - mean_squared_error: 0.0015\n",
      "Epoch 114/200\n",
      "18/18 [==============================] - 1s 78ms/step - loss: 0.0018 - mean_squared_error: 0.0018\n",
      "Epoch 115/200\n",
      "18/18 [==============================] - 1s 77ms/step - loss: 0.0014 - mean_squared_error: 0.0014\n",
      "Epoch 116/200\n",
      "18/18 [==============================] - 1s 77ms/step - loss: 0.0019 - mean_squared_error: 0.0019\n",
      "Epoch 117/200\n",
      "18/18 [==============================] - 1s 78ms/step - loss: 0.0012 - mean_squared_error: 0.0012\n",
      "Epoch 118/200\n",
      "18/18 [==============================] - 1s 78ms/step - loss: 0.0015 - mean_squared_error: 0.0015\n",
      "Epoch 119/200\n",
      "18/18 [==============================] - 1s 78ms/step - loss: 0.0016 - mean_squared_error: 0.0016\n",
      "Epoch 120/200\n",
      "18/18 [==============================] - 1s 78ms/step - loss: 0.0015 - mean_squared_error: 0.0015\n",
      "Epoch 121/200\n",
      "18/18 [==============================] - 1s 78ms/step - loss: 0.0015 - mean_squared_error: 0.0015\n",
      "Epoch 122/200\n",
      "18/18 [==============================] - 1s 77ms/step - loss: 0.0014 - mean_squared_error: 0.0014\n",
      "Epoch 123/200\n",
      "18/18 [==============================] - 1s 77ms/step - loss: 0.0014 - mean_squared_error: 0.0014\n",
      "Epoch 124/200\n",
      "18/18 [==============================] - 1s 77ms/step - loss: 0.0012 - mean_squared_error: 0.0012\n",
      "Epoch 125/200\n",
      "18/18 [==============================] - 1s 78ms/step - loss: 0.0015 - mean_squared_error: 0.0015\n",
      "Epoch 126/200\n",
      "18/18 [==============================] - 1s 77ms/step - loss: 0.0012 - mean_squared_error: 0.0012\n",
      "Epoch 127/200\n",
      "18/18 [==============================] - 1s 78ms/step - loss: 0.0014 - mean_squared_error: 0.0014\n",
      "Epoch 128/200\n",
      "18/18 [==============================] - 1s 78ms/step - loss: 0.0014 - mean_squared_error: 0.0014\n",
      "Epoch 129/200\n",
      "18/18 [==============================] - 1s 78ms/step - loss: 0.0012 - mean_squared_error: 0.0012\n",
      "Epoch 130/200\n",
      "18/18 [==============================] - 1s 78ms/step - loss: 0.0013 - mean_squared_error: 0.0013\n",
      "Epoch 131/200\n",
      "18/18 [==============================] - 1s 78ms/step - loss: 0.0011 - mean_squared_error: 0.0011\n",
      "Epoch 132/200\n",
      "18/18 [==============================] - 1s 78ms/step - loss: 0.0014 - mean_squared_error: 0.0014\n",
      "Epoch 133/200\n",
      "18/18 [==============================] - 1s 77ms/step - loss: 0.0012 - mean_squared_error: 0.0012\n",
      "Epoch 134/200\n",
      "18/18 [==============================] - 1s 78ms/step - loss: 0.0014 - mean_squared_error: 0.0014\n",
      "Epoch 135/200\n",
      "18/18 [==============================] - 1s 77ms/step - loss: 9.9587e-04 - mean_squared_error: 9.9587e-04\n",
      "Epoch 136/200\n",
      "18/18 [==============================] - 1s 78ms/step - loss: 0.0012 - mean_squared_error: 0.0012\n",
      "Epoch 137/200\n",
      "18/18 [==============================] - 1s 78ms/step - loss: 0.0012 - mean_squared_error: 0.0012\n",
      "Epoch 138/200\n",
      "18/18 [==============================] - 1s 78ms/step - loss: 0.0012 - mean_squared_error: 0.0012\n",
      "Epoch 139/200\n",
      "18/18 [==============================] - 1s 78ms/step - loss: 9.7293e-04 - mean_squared_error: 9.7293e-04\n",
      "Epoch 140/200\n",
      "18/18 [==============================] - 1s 78ms/step - loss: 0.0013 - mean_squared_error: 0.0013\n",
      "Epoch 141/200\n",
      "18/18 [==============================] - 1s 78ms/step - loss: 0.0011 - mean_squared_error: 0.0011\n",
      "Epoch 142/200\n",
      "18/18 [==============================] - 1s 78ms/step - loss: 0.0011 - mean_squared_error: 0.0011\n",
      "Epoch 143/200\n",
      "18/18 [==============================] - 1s 78ms/step - loss: 0.0013 - mean_squared_error: 0.0013\n",
      "Epoch 144/200\n",
      "18/18 [==============================] - 1s 78ms/step - loss: 8.7149e-04 - mean_squared_error: 8.7149e-04\n",
      "Epoch 145/200\n",
      "18/18 [==============================] - 1s 78ms/step - loss: 9.9368e-04 - mean_squared_error: 9.9368e-04\n",
      "Epoch 146/200\n",
      "18/18 [==============================] - 1s 77ms/step - loss: 9.8727e-04 - mean_squared_error: 9.8727e-04\n",
      "Epoch 147/200\n",
      "18/18 [==============================] - 1s 78ms/step - loss: 9.8108e-04 - mean_squared_error: 9.8108e-04\n",
      "Epoch 148/200\n",
      "18/18 [==============================] - 1s 78ms/step - loss: 0.0010 - mean_squared_error: 0.0010 \n",
      "Epoch 149/200\n",
      "18/18 [==============================] - 1s 78ms/step - loss: 0.0010 - mean_squared_error: 0.0010\n",
      "Epoch 150/200\n",
      "18/18 [==============================] - 1s 78ms/step - loss: 9.6527e-04 - mean_squared_error: 9.6527e-04\n",
      "Epoch 151/200\n",
      "18/18 [==============================] - 1s 77ms/step - loss: 0.0011 - mean_squared_error: 0.0011\n",
      "Epoch 152/200\n",
      "18/18 [==============================] - 1s 78ms/step - loss: 7.6571e-04 - mean_squared_error: 7.6571e-04\n",
      "Epoch 153/200\n",
      "18/18 [==============================] - 1s 78ms/step - loss: 0.0010 - mean_squared_error: 0.0010\n",
      "Epoch 154/200\n",
      "18/18 [==============================] - 1s 78ms/step - loss: 9.4900e-04 - mean_squared_error: 9.4900e-04\n",
      "Epoch 155/200\n",
      "18/18 [==============================] - 1s 78ms/step - loss: 8.2039e-04 - mean_squared_error: 8.2039e-04\n",
      "Epoch 156/200\n",
      "18/18 [==============================] - 1s 78ms/step - loss: 9.3461e-04 - mean_squared_error: 9.3461e-04\n",
      "Epoch 157/200\n",
      "18/18 [==============================] - 1s 78ms/step - loss: 0.0012 - mean_squared_error: 0.0012\n",
      "Epoch 158/200\n",
      "18/18 [==============================] - 1s 78ms/step - loss: 7.3672e-04 - mean_squared_error: 7.3672e-04\n",
      "Epoch 159/200\n",
      "18/18 [==============================] - 1s 78ms/step - loss: 8.2655e-04 - mean_squared_error: 8.2655e-04\n",
      "Epoch 160/200\n",
      "18/18 [==============================] - 1s 78ms/step - loss: 8.9311e-04 - mean_squared_error: 8.9311e-04\n",
      "Epoch 161/200\n",
      "18/18 [==============================] - 1s 78ms/step - loss: 8.1940e-04 - mean_squared_error: 8.1940e-04\n",
      "Epoch 162/200\n",
      "18/18 [==============================] - 1s 77ms/step - loss: 0.0022 - mean_squared_error: 0.0022\n",
      "Epoch 163/200\n",
      "18/18 [==============================] - 1s 78ms/step - loss: 4.1615e-04 - mean_squared_error: 4.1615e-04\n",
      "Epoch 164/200\n",
      "18/18 [==============================] - 1s 77ms/step - loss: 0.0040 - mean_squared_error: 0.0040\n",
      "Epoch 165/200\n",
      "18/18 [==============================] - 1s 77ms/step - loss: 4.7376e-04 - mean_squared_error: 4.7376e-04\n",
      "Epoch 166/200\n",
      "18/18 [==============================] - 1s 78ms/step - loss: 5.6557e-04 - mean_squared_error: 5.6557e-04\n",
      "Epoch 167/200\n",
      "18/18 [==============================] - 1s 78ms/step - loss: 7.7545e-04 - mean_squared_error: 7.7545e-04\n",
      "Epoch 168/200\n",
      "18/18 [==============================] - 1s 77ms/step - loss: 8.5399e-04 - mean_squared_error: 8.5399e-04\n",
      "Epoch 169/200\n",
      "18/18 [==============================] - 1s 77ms/step - loss: 7.7924e-04 - mean_squared_error: 7.7924e-04\n",
      "Epoch 170/200\n",
      "18/18 [==============================] - 1s 77ms/step - loss: 7.9499e-04 - mean_squared_error: 7.9499e-04\n",
      "Epoch 171/200\n",
      "18/18 [==============================] - 1s 77ms/step - loss: 7.9421e-04 - mean_squared_error: 7.9421e-04\n",
      "Epoch 172/200\n",
      "18/18 [==============================] - 1s 77ms/step - loss: 6.2921e-04 - mean_squared_error: 6.2921e-04\n",
      "Epoch 173/200\n",
      "18/18 [==============================] - 1s 78ms/step - loss: 9.4447e-04 - mean_squared_error: 9.4447e-04\n",
      "Epoch 174/200\n",
      "18/18 [==============================] - 1s 78ms/step - loss: 6.2794e-04 - mean_squared_error: 6.2794e-04\n",
      "Epoch 175/200\n",
      "18/18 [==============================] - 1s 78ms/step - loss: 8.0134e-04 - mean_squared_error: 8.0134e-04\n",
      "Epoch 176/200\n",
      "18/18 [==============================] - 1s 77ms/step - loss: 7.3375e-04 - mean_squared_error: 7.3375e-04\n",
      "Epoch 177/200\n",
      "18/18 [==============================] - 1s 78ms/step - loss: 7.7361e-04 - mean_squared_error: 7.7361e-04\n",
      "Epoch 178/200\n",
      "18/18 [==============================] - 1s 77ms/step - loss: 8.2066e-04 - mean_squared_error: 8.2066e-04\n",
      "Epoch 179/200\n",
      "18/18 [==============================] - 1s 77ms/step - loss: 8.4226e-04 - mean_squared_error: 8.4226e-04\n",
      "Epoch 180/200\n",
      "18/18 [==============================] - 1s 78ms/step - loss: 5.9099e-04 - mean_squared_error: 5.9099e-04\n",
      "Epoch 181/200\n",
      "18/18 [==============================] - 1s 77ms/step - loss: 7.6207e-04 - mean_squared_error: 7.6207e-04\n",
      "Epoch 182/200\n",
      "18/18 [==============================] - 1s 78ms/step - loss: 6.3380e-04 - mean_squared_error: 6.3380e-04\n",
      "Epoch 183/200\n",
      "18/18 [==============================] - 1s 78ms/step - loss: 0.0031 - mean_squared_error: 0.0031\n",
      "Epoch 184/200\n",
      "18/18 [==============================] - 1s 77ms/step - loss: 3.4960e-04 - mean_squared_error: 3.4960e-04\n",
      "Epoch 185/200\n",
      "18/18 [==============================] - 1s 78ms/step - loss: 5.6455e-04 - mean_squared_error: 5.6455e-04\n",
      "Epoch 186/200\n",
      "18/18 [==============================] - 1s 78ms/step - loss: 5.5989e-04 - mean_squared_error: 5.5989e-04\n",
      "Epoch 187/200\n",
      "18/18 [==============================] - 1s 78ms/step - loss: 5.6706e-04 - mean_squared_error: 5.6706e-04\n",
      "Epoch 188/200\n",
      "18/18 [==============================] - 1s 77ms/step - loss: 8.3631e-04 - mean_squared_error: 8.3631e-04\n",
      "Epoch 189/200\n",
      "18/18 [==============================] - 1s 78ms/step - loss: 4.9960e-04 - mean_squared_error: 4.9960e-04\n",
      "Epoch 190/200\n",
      "18/18 [==============================] - 1s 78ms/step - loss: 7.6649e-04 - mean_squared_error: 7.6649e-04\n",
      "Epoch 191/200\n",
      "18/18 [==============================] - 1s 78ms/step - loss: 6.1419e-04 - mean_squared_error: 6.1419e-04\n",
      "Epoch 192/200\n",
      "18/18 [==============================] - 1s 77ms/step - loss: 7.0361e-04 - mean_squared_error: 7.0361e-04\n",
      "Epoch 193/200\n",
      "18/18 [==============================] - 1s 78ms/step - loss: 6.0186e-04 - mean_squared_error: 6.0186e-04\n",
      "Epoch 194/200\n",
      "18/18 [==============================] - 1s 78ms/step - loss: 5.8389e-04 - mean_squared_error: 5.8389e-04\n",
      "Epoch 195/200\n",
      "18/18 [==============================] - 1s 78ms/step - loss: 6.3278e-04 - mean_squared_error: 6.3278e-04\n",
      "Epoch 196/200\n",
      "18/18 [==============================] - 1s 78ms/step - loss: 6.1056e-04 - mean_squared_error: 6.1056e-04\n",
      "Epoch 197/200\n",
      "18/18 [==============================] - 1s 78ms/step - loss: 6.3196e-04 - mean_squared_error: 6.3196e-04\n",
      "Epoch 198/200\n",
      "18/18 [==============================] - 1s 78ms/step - loss: 5.9725e-04 - mean_squared_error: 5.9725e-04\n",
      "Epoch 199/200\n",
      "18/18 [==============================] - 1s 78ms/step - loss: 5.5089e-04 - mean_squared_error: 5.5089e-04\n",
      "Epoch 200/200\n",
      "18/18 [==============================] - 1s 77ms/step - loss: 6.3718e-04 - mean_squared_error: 6.3718e-04\n"
     ]
    }
   ],
   "source": [
    "model = Sequential()\n",
    "model.add(Dense(256, activation='relu', input_shape=(42000,)))\n",
    "model.add(Dense(128, activation='relu'))\n",
    "model.add(Dense(98, activation='sigmoid'))\n",
    "\n",
    "model.summary()\n",
    "\n",
    "keras.optimizers.RMSprop(lr=0.001, rho=0.9, epsilon=None, decay=0.0)\n",
    "\n",
    "model.compile(loss='mse',optimizer='rmsprop',metrics=['mean_squared_error'])\n",
    "\n",
    "history = model.fit(x_train, y_train, batch_size=batch_size, epochs=epochs, shuffle=True, verbose=1)"
   ]
  },
  {
   "cell_type": "code",
   "execution_count": null,
   "metadata": {},
   "outputs": [],
   "source": [
    "model.save(\"modelFCN_july2020_1.h5\")"
   ]
  },
  {
   "cell_type": "markdown",
   "metadata": {},
   "source": [
    "## 1-Dimensional CNN"
   ]
  },
  {
   "cell_type": "code",
   "execution_count": null,
   "metadata": {},
   "outputs": [],
   "source": [
    "model = Sequential()\n",
    "model.add(Conv1D(filters=128, kernel_size=100,strides=1, name='conv1D_Input', input_shape=(42000)))\n",
    "model.add(Activation('relu'))\n",
    "model.add(MaxPooling1D(2))\n",
    "model.add(BatchNormalization())\n",
    "model.add(Dropout(0.5))\n",
    "model.add(Flatten())\n",
    "model.add(Dense(98, activation='sigmoid'))\n",
    "\n",
    "model.compile(optimizer='rmsprop', loss='mse',metrics=['mean_squared_error'])\n",
    "model.summary()\n",
    "\n",
    "keras.optimizers.RMSprop(lr=0.001, rho=0.9, epsilon=None, decay=0.0)\n",
    "\n",
    "model.compile(loss='mse',optimizer='rmsprop',metrics=['mean_squared_error'])\n",
    "\n",
    "history = model.fit(x_train, y_train, batch_size=batch_size, epochs=epochs, shuffle=True, verbose=1)"
   ]
  },
  {
   "cell_type": "code",
   "execution_count": 2,
   "metadata": {},
   "outputs": [
    {
     "data": {
      "text/plain": [
       "'C:\\\\Users\\\\golf_\\\\estMTF_code'"
      ]
     },
     "execution_count": 2,
     "metadata": {},
     "output_type": "execute_result"
    }
   ],
   "source": [
    "pwd"
   ]
  },
  {
   "cell_type": "markdown",
   "metadata": {},
   "source": [
    "# Evaluation with the baseline"
   ]
  },
  {
   "cell_type": "code",
   "execution_count": 3,
   "metadata": {},
   "outputs": [],
   "source": [
    "model=load_model(\"modelFCN_july2020_1.h5\")"
   ]
  },
  {
   "cell_type": "code",
   "execution_count": 8,
   "metadata": {},
   "outputs": [
    {
     "name": "stdout",
     "output_type": "stream",
     "text": [
      "Model: \"sequential_6\"\n",
      "_________________________________________________________________\n",
      "Layer (type)                 Output Shape              Param #   \n",
      "=================================================================\n",
      "dense_8 (Dense)              (None, 256)               10752256  \n",
      "_________________________________________________________________\n",
      "dense_9 (Dense)              (None, 128)               32896     \n",
      "_________________________________________________________________\n",
      "dense_10 (Dense)             (None, 98)                12642     \n",
      "=================================================================\n",
      "Total params: 10,797,794\n",
      "Trainable params: 10,797,794\n",
      "Non-trainable params: 0\n",
      "_________________________________________________________________\n"
     ]
    }
   ],
   "source": [
    "model.summary()"
   ]
  },
  {
   "cell_type": "code",
   "execution_count": 16,
   "metadata": {},
   "outputs": [
    {
     "name": "stdout",
     "output_type": "stream",
     "text": [
      " Volume in drive C is OS\n",
      " Volume Serial Number is 0AE9-9254\n",
      "\n",
      " Directory of C:\\Users\\golf_\\estMTF_code\n",
      "\n",
      "07/16/2020  04:05 PM    <DIR>          .\n",
      "07/16/2020  04:05 PM    <DIR>          ..\n",
      "07/16/2020  10:09 AM    <DIR>          .ipynb_checkpoints\n",
      "07/03/2020  07:29 AM         1,418,368 a11_034_TAEs.mat\n",
      "07/03/2020  07:51 AM               927 a11_MTF.mat\n",
      "07/16/2020  04:05 PM            38,708 estMTF_PhD.ipynb\n",
      "07/15/2020  06:46 PM        86,411,520 modelFCN_july2020_1.h5\n",
      "07/03/2020  07:32 AM           338,032 MTF.npy\n",
      "07/02/2020  11:02 AM       144,816,128 TAE.npy\n",
      "               6 File(s)    233,023,683 bytes\n",
      "               3 Dir(s)  830,887,051,264 bytes free\n"
     ]
    }
   ],
   "source": [
    "ls"
   ]
  },
  {
   "cell_type": "code",
   "execution_count": 4,
   "metadata": {},
   "outputs": [],
   "source": [
    "a11 = scipy.io.loadmat('a11_034_TAEs.mat')"
   ]
  },
  {
   "cell_type": "code",
   "execution_count": 6,
   "metadata": {},
   "outputs": [],
   "source": [
    "a11 = scipy.io.loadmat('a11_MTF.mat')"
   ]
  },
  {
   "cell_type": "code",
   "execution_count": 5,
   "metadata": {},
   "outputs": [],
   "source": [
    "TAE_a11 = a11['a11_034_TAEs']"
   ]
  },
  {
   "cell_type": "code",
   "execution_count": 9,
   "metadata": {},
   "outputs": [],
   "source": [
    "a11_M = scipy.io.loadmat('a11_034_TAEs.mat')"
   ]
  },
  {
   "cell_type": "code",
   "execution_count": 10,
   "metadata": {},
   "outputs": [],
   "source": [
    "MTF_a11 = a11['MTF']"
   ]
  },
  {
   "cell_type": "code",
   "execution_count": 12,
   "metadata": {},
   "outputs": [
    {
     "name": "stdout",
     "output_type": "stream",
     "text": [
      "(7, 14)\n",
      "(7, 26729)\n"
     ]
    }
   ],
   "source": [
    "print(MTF_a11.shape)\n",
    "print(TAE_a11.shape)"
   ]
  },
  {
   "cell_type": "code",
   "execution_count": 27,
   "metadata": {},
   "outputs": [
    {
     "data": {
      "text/plain": [
       "(7, 26729)"
      ]
     },
     "execution_count": 27,
     "metadata": {},
     "output_type": "execute_result"
    }
   ],
   "source": [
    "TAE_a11.shape"
   ]
  },
  {
   "cell_type": "code",
   "execution_count": 13,
   "metadata": {},
   "outputs": [],
   "source": [
    "TAE_a11 = TAE_a11.transpose()"
   ]
  },
  {
   "cell_type": "code",
   "execution_count": 31,
   "metadata": {},
   "outputs": [
    {
     "data": {
      "text/plain": [
       "(26729, 7)"
      ]
     },
     "execution_count": 31,
     "metadata": {},
     "output_type": "execute_result"
    }
   ],
   "source": [
    "TAE_a11.shape"
   ]
  },
  {
   "cell_type": "code",
   "execution_count": 14,
   "metadata": {},
   "outputs": [],
   "source": [
    "TAE_a11 = TAE_a11[0:6000,:]"
   ]
  },
  {
   "cell_type": "code",
   "execution_count": 15,
   "metadata": {},
   "outputs": [],
   "source": [
    "TAE_a11_re =  np.reshape(TAE_a11,[1,6000*7])"
   ]
  },
  {
   "cell_type": "code",
   "execution_count": 16,
   "metadata": {},
   "outputs": [],
   "source": [
    "estMTF_a11 = model.predict(TAE_a11_re)"
   ]
  },
  {
   "cell_type": "code",
   "execution_count": 39,
   "metadata": {},
   "outputs": [
    {
     "data": {
      "text/plain": [
       "(1, 98)"
      ]
     },
     "execution_count": 39,
     "metadata": {},
     "output_type": "execute_result"
    }
   ],
   "source": [
    "estMTF_a11.shape"
   ]
  },
  {
   "cell_type": "code",
   "execution_count": 18,
   "metadata": {},
   "outputs": [],
   "source": [
    "a11_MTF_RIR = np.reshape(MTF_a11,[1,98])"
   ]
  },
  {
   "cell_type": "code",
   "execution_count": 37,
   "metadata": {},
   "outputs": [
    {
     "data": {
      "text/plain": [
       "(1, 98)"
      ]
     },
     "execution_count": 37,
     "metadata": {},
     "output_type": "execute_result"
    }
   ],
   "source": [
    "a11_MTF_RIR.shape"
   ]
  },
  {
   "cell_type": "code",
   "execution_count": 20,
   "metadata": {},
   "outputs": [
    {
     "data": {
      "text/plain": [
       "array([[1.        , 1.        , 1.        , 1.        , 1.        ,\n",
       "        1.        , 1.        , 0.99923635, 0.999092  , 0.99860364,\n",
       "        0.9986504 , 0.9986695 , 0.9984802 , 0.99920857, 0.99743253,\n",
       "        0.99630105, 0.99701875, 0.9967468 , 0.99566096, 0.9961037 ,\n",
       "        0.9984831 , 0.99539566, 0.99252695, 0.9924443 , 0.9917838 ,\n",
       "        0.9915465 , 0.9931972 , 0.99629927, 0.98950106, 0.9825442 ,\n",
       "        0.98240954, 0.9832519 , 0.98456895, 0.9863142 , 0.9931298 ,\n",
       "        0.98322135, 0.976562  , 0.9724294 , 0.9670383 , 0.9718472 ,\n",
       "        0.97714376, 0.987941  , 0.97259575, 0.95434594, 0.9532133 ,\n",
       "        0.9481146 , 0.9506273 , 0.96504676, 0.9790315 , 0.946246  ,\n",
       "        0.9255525 , 0.92164457, 0.9101263 , 0.9239783 , 0.9458584 ,\n",
       "        0.9721784 , 0.8932365 , 0.8734469 , 0.86508214, 0.87455034,\n",
       "        0.8789532 , 0.9238799 , 0.95306724, 0.8293685 , 0.82616764,\n",
       "        0.78880405, 0.8406404 , 0.8223965 , 0.87447286, 0.9265329 ,\n",
       "        0.7618637 , 0.74236053, 0.71994674, 0.80878305, 0.7843349 ,\n",
       "        0.82835823, 0.888497  , 0.6901125 , 0.64204395, 0.59358996,\n",
       "        0.7510172 , 0.76144564, 0.7678265 , 0.82827425, 0.6246672 ,\n",
       "        0.4701667 , 0.6054178 , 0.6889986 , 0.6754842 , 0.75672734,\n",
       "        0.7575027 , 0.5423783 , 0.32795602, 0.56815773, 0.55313003,\n",
       "        0.6222668 , 0.7179773 , 0.75846153]], dtype=float32)"
      ]
     },
     "execution_count": 20,
     "metadata": {},
     "output_type": "execute_result"
    }
   ],
   "source": [
    "estMTF_a11 "
   ]
  },
  {
   "cell_type": "code",
   "execution_count": 31,
   "metadata": {},
   "outputs": [
    {
     "name": "stdout",
     "output_type": "stream",
     "text": [
      "0.290\n"
     ]
    }
   ],
   "source": [
    "RMSE = np.sqrt(mean_squared_error(a11_MTF_RIR,estMTF_a11 ))\n",
    "print(\"%0.3f\"%RMSE)"
   ]
  },
  {
   "cell_type": "code",
   "execution_count": 38,
   "metadata": {},
   "outputs": [
    {
     "data": {
      "text/plain": [
       "(1, 98)"
      ]
     },
     "execution_count": 38,
     "metadata": {},
     "output_type": "execute_result"
    }
   ],
   "source": [
    "estMTF_a11.shape"
   ]
  },
  {
   "cell_type": "code",
   "execution_count": 39,
   "metadata": {},
   "outputs": [],
   "source": [
    "m =  np.reshape(estMTF_a11,[1,7,14])"
   ]
  },
  {
   "cell_type": "code",
   "execution_count": 40,
   "metadata": {},
   "outputs": [
    {
     "data": {
      "text/plain": [
       "(1, 7, 14)"
      ]
     },
     "execution_count": 40,
     "metadata": {},
     "output_type": "execute_result"
    }
   ],
   "source": [
    "m.shape"
   ]
  },
  {
   "cell_type": "code",
   "execution_count": 42,
   "metadata": {},
   "outputs": [
    {
     "data": {
      "text/plain": [
       "array([[[1.        , 1.        , 1.        , 1.        , 1.        ,\n",
       "         1.        , 1.        , 0.99923635, 0.999092  , 0.99860364,\n",
       "         0.9986504 , 0.9986695 , 0.9984802 , 0.99920857],\n",
       "        [0.99743253, 0.99630105, 0.99701875, 0.9967468 , 0.99566096,\n",
       "         0.9961037 , 0.9984831 , 0.99539566, 0.99252695, 0.9924443 ,\n",
       "         0.9917838 , 0.9915465 , 0.9931972 , 0.99629927],\n",
       "        [0.98950106, 0.9825442 , 0.98240954, 0.9832519 , 0.98456895,\n",
       "         0.9863142 , 0.9931298 , 0.98322135, 0.976562  , 0.9724294 ,\n",
       "         0.9670383 , 0.9718472 , 0.97714376, 0.987941  ],\n",
       "        [0.97259575, 0.95434594, 0.9532133 , 0.9481146 , 0.9506273 ,\n",
       "         0.96504676, 0.9790315 , 0.946246  , 0.9255525 , 0.92164457,\n",
       "         0.9101263 , 0.9239783 , 0.9458584 , 0.9721784 ],\n",
       "        [0.8932365 , 0.8734469 , 0.86508214, 0.87455034, 0.8789532 ,\n",
       "         0.9238799 , 0.95306724, 0.8293685 , 0.82616764, 0.78880405,\n",
       "         0.8406404 , 0.8223965 , 0.87447286, 0.9265329 ],\n",
       "        [0.7618637 , 0.74236053, 0.71994674, 0.80878305, 0.7843349 ,\n",
       "         0.82835823, 0.888497  , 0.6901125 , 0.64204395, 0.59358996,\n",
       "         0.7510172 , 0.76144564, 0.7678265 , 0.82827425],\n",
       "        [0.6246672 , 0.4701667 , 0.6054178 , 0.6889986 , 0.6754842 ,\n",
       "         0.75672734, 0.7575027 , 0.5423783 , 0.32795602, 0.56815773,\n",
       "         0.55313003, 0.6222668 , 0.7179773 , 0.75846153]]], dtype=float32)"
      ]
     },
     "execution_count": 42,
     "metadata": {},
     "output_type": "execute_result"
    }
   ],
   "source": [
    "m"
   ]
  },
  {
   "cell_type": "code",
   "execution_count": 41,
   "metadata": {},
   "outputs": [
    {
     "name": "stdout",
     "output_type": "stream",
     "text": [
      "0.9994\n",
      "0.9951\n",
      "0.9813\n",
      "0.9478\n",
      "0.8693\n",
      "0.7549\n",
      "0.6192\n"
     ]
    }
   ],
   "source": [
    "mtf = np.zeros([7])\n",
    "\n",
    "i=0\n",
    "for i in range(7):\n",
    "    mtf[i] = np.mean(m[:,i])\n",
    "    print(\"%0.4f\"%mtf[i])\n",
    "    "
   ]
  },
  {
   "cell_type": "markdown",
   "metadata": {},
   "source": [
    "## Calculate RT60"
   ]
  },
  {
   "cell_type": "code",
   "execution_count": 30,
   "metadata": {},
   "outputs": [
    {
     "name": "stdout",
     "output_type": "stream",
     "text": [
      "RT : 0.039\n",
      "RT : 0.116\n",
      "RT : 0.228\n",
      "RT : 0.390\n",
      "RT : 0.659\n",
      "RT : 1.008\n",
      "final RT : 0.407\n"
     ]
    }
   ],
   "source": [
    "fm = [0.63, 0.8, 1.0, 1.25, 1.6, 2.0, 2.5, 3.15, 4.0, 5.0, 6.3, 8.0, 10, 12.5]\n",
    "RT = np.zeros([7,14])\n",
    "c = 0\n",
    "for i in range(6):\n",
    "    for k in range(14):\n",
    "        RT[i,k] = np.sqrt( (1/pow(mtf[i],2)) -1)  *(13.8/(2*np.pi*fm[k]))\n",
    "    a = np.mean(RT[i,:])\n",
    "    print(\"RT : %0.3f\"%a)\n",
    "    c = c+a\n",
    "d = c/6    \n",
    "print(\"final RT : %0.3f\" %d) "
   ]
  },
  {
   "cell_type": "code",
   "execution_count": 32,
   "metadata": {},
   "outputs": [
    {
     "data": {
      "text/plain": [
       "(1, 98)"
      ]
     },
     "execution_count": 32,
     "metadata": {},
     "output_type": "execute_result"
    }
   ],
   "source": [
    "a11_MTF_RIR.shape"
   ]
  },
  {
   "cell_type": "code",
   "execution_count": 34,
   "metadata": {},
   "outputs": [],
   "source": [
    "m_a11_RIR =  np.reshape(a11_MTF_RIR,[1,7,14])"
   ]
  },
  {
   "cell_type": "code",
   "execution_count": 35,
   "metadata": {},
   "outputs": [
    {
     "name": "stdout",
     "output_type": "stream",
     "text": [
      "0.8121\n",
      "0.7515\n",
      "0.7831\n",
      "0.7429\n",
      "0.7718\n",
      "0.7684\n",
      "0.7665\n"
     ]
    }
   ],
   "source": [
    "mtf = np.zeros([7])\n",
    "\n",
    "i=0\n",
    "for i in range(7):\n",
    "    mtf[i] = np.mean(m_a11_RIR[:,i])\n",
    "    print(\"%0.4f\"%mtf[i])\n",
    "    "
   ]
  },
  {
   "cell_type": "code",
   "execution_count": 36,
   "metadata": {},
   "outputs": [
    {
     "name": "stdout",
     "output_type": "stream",
     "text": [
      "RT : 0.834\n",
      "RT : 1.018\n",
      "RT : 0.921\n",
      "RT : 1.045\n",
      "RT : 0.956\n",
      "RT : 0.966\n",
      "final RT : 0.957\n"
     ]
    }
   ],
   "source": [
    "fm = [0.63, 0.8, 1.0, 1.25, 1.6, 2.0, 2.5, 3.15, 4.0, 5.0, 6.3, 8.0, 10, 12.5]\n",
    "RT = np.zeros([7,14])\n",
    "c = 0\n",
    "for i in range(6):\n",
    "    for k in range(14):\n",
    "        RT[i,k] = np.sqrt( (1/pow(mtf[i],2)) -1)  *(13.8/(2*np.pi*fm[k]))\n",
    "    a = np.mean(RT[i,:])\n",
    "    print(\"RT : %0.3f\"%a)\n",
    "    c = c+a\n",
    "d = c/6    \n",
    "print(\"final RT : %0.3f\" %d) "
   ]
  },
  {
   "cell_type": "code",
   "execution_count": null,
   "metadata": {},
   "outputs": [],
   "source": []
  }
 ],
 "metadata": {
  "kernelspec": {
   "display_name": "Python 3",
   "language": "python",
   "name": "python3"
  },
  "language_info": {
   "codemirror_mode": {
    "name": "ipython",
    "version": 3
   },
   "file_extension": ".py",
   "mimetype": "text/x-python",
   "name": "python",
   "nbconvert_exporter": "python",
   "pygments_lexer": "ipython3",
   "version": "3.9.13"
  }
 },
 "nbformat": 4,
 "nbformat_minor": 4
}
